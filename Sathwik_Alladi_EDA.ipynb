{
 "cells": [
  {
   "cell_type": "markdown",
   "id": "1bd7305b",
   "metadata": {},
   "source": [
    "# Data Overview"
   ]
  },
  {
   "cell_type": "code",
   "execution_count": 1,
   "id": "884c8ec1-669b-4aa2-b2c7-35900a4dc3fc",
   "metadata": {},
   "outputs": [],
   "source": [
    "#Importing the required libraries\n",
    "import numpy as np \n",
    "import pandas as pd \n",
    "import matplotlib.pyplot as plt \n",
    "import seaborn as sns\n"
   ]
  },
  {
   "cell_type": "code",
   "execution_count": 2,
   "id": "64d66756-1042-4798-86f8-93084a0fec4f",
   "metadata": {},
   "outputs": [],
   "source": [
    "#LOADING\n",
    "\n",
    "customers = pd.read_csv('csv files/Customers.csv') # Reading Customers.csv dataset\n",
    "products = pd.read_csv('csv files/Products.csv') # Reading Products.csv dataset\n",
    "transactions = pd.read_csv('csv files/Transactions.csv') # Reading Transactions.csv dataset"
   ]
  },
  {
   "cell_type": "code",
   "execution_count": 3,
   "id": "b2a422ed-f309-44a7-9945-5d752f3b05b1",
   "metadata": {},
   "outputs": [],
   "source": [
    "#MERGING\n",
    "\n",
    "transactions_customers = transactions.merge(customers, on='CustomerID') #Merging the datasets\n",
    "full_data = transactions_customers.merge(products, on='ProductID') # Join all three"
   ]
  },
  {
   "cell_type": "markdown",
   "id": "b64f36e6",
   "metadata": {},
   "source": [
    "# Data Checks"
   ]
  },
  {
   "cell_type": "code",
   "execution_count": null,
   "id": "f2459e7c-9e07-4ea1-8dcc-57780092b751",
   "metadata": {},
   "outputs": [],
   "source": [
    "full_data.head() #Previewing the top rows of the dataset to understand its structure and data types."
   ]
  },
  {
   "cell_type": "code",
   "execution_count": null,
   "id": "52abcb4f-c429-489a-9a95-060ff3a16ddb",
   "metadata": {},
   "outputs": [],
   "source": [
    "full_data.tail() #Examining the last few rows to verify the dataset ends as expected."
   ]
  },
  {
   "cell_type": "code",
   "execution_count": null,
   "id": "2f47cb48-ae8a-4741-bbbb-c387f75a7d24",
   "metadata": {},
   "outputs": [],
   "source": [
    "full_data.describe() #Analyzing summary statistics for numerical features to identify potential outliers or unusual distributions."
   ]
  },
  {
   "cell_type": "code",
   "execution_count": null,
   "id": "2c28d322-0873-4964-81c2-d4f264dc79ac",
   "metadata": {},
   "outputs": [],
   "source": [
    "full_data.info() #Checking column data types, non-null counts, and dataset metadata for quick assessment. "
   ]
  },
  {
   "cell_type": "code",
   "execution_count": null,
   "id": "873d8b3e-5c07-4e11-ba8f-acad4afa3f7a",
   "metadata": {},
   "outputs": [],
   "source": [
    "full_data.value_counts(\"Category\") #Checking the frequency of unique values in the column to understand distribution patterns."
   ]
  },
  {
   "cell_type": "code",
   "execution_count": null,
   "id": "943ce45b-b4e9-4603-8f0f-1c2292141155",
   "metadata": {},
   "outputs": [],
   "source": [
    "full_data.size #Checking the total number of elements to understand dataset size."
   ]
  },
  {
   "cell_type": "code",
   "execution_count": null,
   "id": "35dc996d-c091-426f-8833-f3f627e9e5b4",
   "metadata": {},
   "outputs": [],
   "source": [
    "full_data.shape #Retrieving the dataset's dimensions to know the number of rows and columns. "
   ]
  },
  {
   "cell_type": "code",
   "execution_count": null,
   "id": "ed6953ca-89ed-4300-88cd-9dc522bfd184",
   "metadata": {},
   "outputs": [],
   "source": [
    "full_data.isnull().sum() #Verifying that no missing values exist in the dataset to confirm data completeness."
   ]
  },
  {
   "cell_type": "code",
   "execution_count": 13,
   "id": "1c68abd3-c6c6-47ff-a1d3-7586864f47d3",
   "metadata": {},
   "outputs": [],
   "source": [
    "# Converting date columns to datetime for better analysis\n",
    "full_data['TransactionDate'] = pd.to_datetime(full_data['TransactionDate'])\n",
    "full_data['SignupDate'] = pd.to_datetime(full_data['SignupDate'])"
   ]
  },
  {
   "cell_type": "markdown",
   "id": "c0bf1517-e0bd-43f5-b91a-43aa9ae23b51",
   "metadata": {},
   "source": [
    "# Exploratory Data Analysis"
   ]
  },
  {
   "cell_type": "markdown",
   "id": "c6f023e3",
   "metadata": {},
   "source": [
    "### 1. Monthly Transaction Trend"
   ]
  },
  {
   "cell_type": "code",
   "execution_count": null,
   "id": "7f43c567-55ca-49cd-a5c4-17c3c82c14ca",
   "metadata": {},
   "outputs": [],
   "source": [
    "# This shows seasonal trends in customer activity. Peaks may represent holiday seasons or promotional periods.\n",
    "\n",
    "sns.set(style=\"whitegrid\", palette=\"muted\", font_scale=1.2) #plot style\n",
    "plt.figure(figsize=(10, 6))\n",
    "transactions_per_month = full_data.groupby(full_data['TransactionDate'].dt.to_period('M')).size()\n",
    "transactions_per_month.plot(kind='line', marker='o')\n",
    "plt.title(\"Monthly Transaction Trend\", fontsize=14)\n",
    "plt.xlabel(\"Month\")\n",
    "plt.ylabel(\"Number of Transactions\")\n",
    "plt.grid(True)\n",
    "plt.xticks(rotation=45)\n",
    "plt.show()\n"
   ]
  },
  {
   "cell_type": "markdown",
   "id": "6b3194dc",
   "metadata": {},
   "source": [
    "### 2. Most Popular Product Categories"
   ]
  },
  {
   "cell_type": "code",
   "execution_count": null,
   "id": "2ed09a1f-f82a-45ae-ade5-5f5a90dde941",
   "metadata": {},
   "outputs": [],
   "source": [
    "# This indicates the categories most frequently purchased by customers, helping focus inventory and promotions.\n",
    "\n",
    "plt.figure(figsize=(10, 6))\n",
    "popular_categories = full_data['Category'].value_counts()\n",
    "sns.barplot(x=popular_categories.index, y=popular_categories.values, palette=\"viridis\")\n",
    "plt.title(\"Most Popular Product Categories\", fontsize=14)\n",
    "plt.xlabel(\"Product Category\")\n",
    "plt.ylabel(\"Number of Transactions\")\n",
    "plt.xticks(rotation=45)\n",
    "plt.show()"
   ]
  },
  {
   "cell_type": "markdown",
   "id": "36b68765",
   "metadata": {},
   "source": [
    "### 3. Total Sales by Region\n"
   ]
  },
  {
   "cell_type": "code",
   "execution_count": null,
   "id": "68404db2-b27c-444d-bc4c-5bd8a60df133",
   "metadata": {},
   "outputs": [],
   "source": [
    "# Regions contributing the most to sales can be targeted for expansion, while others may require localized promotions.\n",
    "\n",
    "plt.figure(figsize=(10, 6))\n",
    "sales_by_region = full_data.groupby('Region')['TotalValue'].sum().sort_values(ascending=False)\n",
    "sns.barplot(x=sales_by_region.index, y=sales_by_region.values, palette=\"coolwarm\")\n",
    "plt.title(\"Total Sales by Region\", fontsize=14)\n",
    "plt.xlabel(\"Region\")\n",
    "plt.ylabel(\"Total Sales\")\n",
    "plt.show()"
   ]
  },
  {
   "cell_type": "markdown",
   "id": "45ddf2f1",
   "metadata": {},
   "source": [
    "### 4. Average Order Value by Region"
   ]
  },
  {
   "cell_type": "code",
   "execution_count": null,
   "id": "fc901013-ce92-4ec4-bbcb-c87e0454f801",
   "metadata": {},
   "outputs": [],
   "source": [
    "# Regions with higher average order values may have affluent customers, guiding premium product offerings.\n",
    "\n",
    "plt.figure(figsize=(10, 6))\n",
    "avg_order_by_region = full_data.groupby('Region')['TotalValue'].mean().sort_values(ascending=False)\n",
    "sns.barplot(x=avg_order_by_region.index, y=avg_order_by_region.values, palette=\"magma\")\n",
    "plt.title(\"Average Order Value by Region\", fontsize=14)\n",
    "plt.xlabel(\"Region\")\n",
    "plt.ylabel(\"Average Order Value\")\n",
    "plt.show()"
   ]
  },
  {
   "cell_type": "markdown",
   "id": "dd900ee5",
   "metadata": {},
   "source": [
    "### 5. Customer Segmentation by Region"
   ]
  },
  {
   "cell_type": "code",
   "execution_count": null,
   "id": "9bb2b1cd-1652-4a3e-8682-d81c0ffb167b",
   "metadata": {},
   "outputs": [],
   "source": [
    "# This shows which regions have the most customers, helping allocate resources for regional marketing strategies.\n",
    "\n",
    "plt.figure(figsize=(10, 6))\n",
    "customers_by_region = full_data['Region'].value_counts()\n",
    "sns.barplot(x=customers_by_region.index, y=customers_by_region.values, palette=\"cubehelix\")\n",
    "plt.title(\"Customer Segmentation by Region\", fontsize=14)\n",
    "plt.xlabel(\"Region\")\n",
    "plt.ylabel(\"Number of Customers\")\n",
    "plt.xticks(rotation=45)\n",
    "plt.show()"
   ]
  },
  {
   "cell_type": "markdown",
   "id": "9d5f24d2",
   "metadata": {},
   "source": [
    "### 6. Top 10 Most Purchased Products"
   ]
  },
  {
   "cell_type": "code",
   "execution_count": null,
   "id": "fdc51716-59be-430b-929a-e05f3579258e",
   "metadata": {},
   "outputs": [],
   "source": [
    "# Identifies best-selling products to focus on promotion, restocking, and bundling strategies.\n",
    "\n",
    "plt.figure(figsize=(10, 6))\n",
    "top_products = full_data['ProductName'].value_counts().head(10)\n",
    "sns.barplot(y=top_products.index, x=top_products.values, palette=\"plasma\")\n",
    "plt.title(\"Top 10 Most Purchased Products\", fontsize=14)\n",
    "plt.xlabel(\"Number of Transactions\")\n",
    "plt.ylabel(\"Product Name\")\n",
    "plt.show()"
   ]
  },
  {
   "cell_type": "markdown",
   "id": "47fe4370-edbe-477f-afb3-0aca844badc4",
   "metadata": {},
   "source": [
    "### COMPREHENSIVE INSIGHT\n",
    "\n",
    "This exploratory data analysis uncovers opportunities to refine marketing approaches, inventory management, and regional strategies. By capitalizing on seasonal trends, leveraging regional market strengths, and optimizing product performance, the business can drive revenue growth and foster deeper customer engagement. "
   ]
  },
  {
   "cell_type": "markdown",
   "id": "b01df173",
   "metadata": {},
   "source": [
    "Thank you."
   ]
  },
  {
   "cell_type": "markdown",
   "id": "afa9ff47",
   "metadata": {},
   "source": []
  }
 ],
 "metadata": {
  "kernelspec": {
   "display_name": "base",
   "language": "python",
   "name": "python3"
  },
  "language_info": {
   "codemirror_mode": {
    "name": "ipython",
    "version": 3
   },
   "file_extension": ".py",
   "mimetype": "text/x-python",
   "name": "python",
   "nbconvert_exporter": "python",
   "pygments_lexer": "ipython3",
   "version": "3.11.5"
  }
 },
 "nbformat": 4,
 "nbformat_minor": 5
}
