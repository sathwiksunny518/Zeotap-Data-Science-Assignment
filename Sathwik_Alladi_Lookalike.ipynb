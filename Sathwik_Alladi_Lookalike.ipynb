{
 "cells": [
  {
   "cell_type": "markdown",
   "id": "17145aba",
   "metadata": {},
   "source": [
    "### Importing Libraries"
   ]
  },
  {
   "cell_type": "code",
   "execution_count": 10,
   "id": "9c66eb5a",
   "metadata": {},
   "outputs": [],
   "source": [
    "import pandas as pd\n",
    "from sklearn.metrics.pairwise import cosine_similarity"
   ]
  },
  {
   "cell_type": "markdown",
   "id": "aea9f066",
   "metadata": {},
   "source": [
    "### Loading Datasets"
   ]
  },
  {
   "cell_type": "code",
   "execution_count": 11,
   "id": "2758810c",
   "metadata": {},
   "outputs": [],
   "source": [
    "customers = pd.read_csv(\"csv files/Customers.csv\")\n",
    "products = pd.read_csv(\"csv files/Products.csv\")\n",
    "transactions = pd.read_csv(\"csv files/Transactions.csv\")"
   ]
  },
  {
   "cell_type": "markdown",
   "id": "81dfe8ac",
   "metadata": {},
   "source": [
    "### Merging Datasets"
   ]
  },
  {
   "cell_type": "code",
   "execution_count": 12,
   "id": "03afd0cf",
   "metadata": {},
   "outputs": [],
   "source": [
    "# Merging transactions, customers, and products data into a single dataset for comprehensive analysis.\n",
    "merged_data = transactions.merge(customers, on=\"CustomerID\").merge(products, on=\"ProductID\")"
   ]
  },
  {
   "cell_type": "markdown",
   "id": "5ecfc8ae",
   "metadata": {},
   "source": [
    "### Creating User Profiles/ Feature Transaction"
   ]
  },
  {
   "cell_type": "code",
   "execution_count": 13,
   "id": "92df3cf9",
   "metadata": {},
   "outputs": [],
   "source": [
    "\n",
    "# Customer profiles include mean 'Quantity' and 'TotalValue' purchased, as well as their category preferences\n",
    "customer_profiles = merged_data.groupby(\"CustomerID\")[[\"Quantity\", \"TotalValue\"]].mean()"
   ]
  },
  {
   "cell_type": "markdown",
   "id": "1640031f",
   "metadata": {},
   "source": [
    "### Encoding"
   ]
  },
  {
   "cell_type": "code",
   "execution_count": 14,
   "id": "5470c7ee",
   "metadata": {},
   "outputs": [],
   "source": [
    "# Creating one-hot encoded product category preferences for each customer\n",
    "product_preferences = pd.get_dummies(merged_data[[\"CustomerID\", \"Category\"]], columns=[\"Category\"])\n",
    "product_preferences = product_preferences.groupby(\"CustomerID\").sum()"
   ]
  },
  {
   "cell_type": "markdown",
   "id": "dddce085",
   "metadata": {},
   "source": [
    "### Final Profiling"
   ]
  },
  {
   "cell_type": "code",
   "execution_count": 15,
   "id": "fa9aadb8",
   "metadata": {},
   "outputs": [],
   "source": [
    "# Combined transaction features and product preferences into a final profile for each customer\n",
    "final_profiles = pd.concat([customer_profiles, product_preferences], axis=1)"
   ]
  },
  {
   "cell_type": "markdown",
   "id": "40656f91",
   "metadata": {},
   "source": [
    "### Cosine Similarity + Similarity Matrix"
   ]
  },
  {
   "cell_type": "code",
   "execution_count": 16,
   "id": "7ed9a3c0",
   "metadata": {},
   "outputs": [],
   "source": [
    "# Computing Cosine Similarity for Customer Profiles\n",
    "# Generating a similarity matrix based on the final customer profiles\n",
    "\n",
    "similarity_matrix = cosine_similarity(final_profiles)\n",
    "similarity_df = pd.DataFrame(similarity_matrix, index=final_profiles.index, columns=final_profiles.index)"
   ]
  },
  {
   "cell_type": "markdown",
   "id": "70e0e874",
   "metadata": {},
   "source": [
    "### Lookalike Recommendations"
   ]
  },
  {
   "cell_type": "code",
   "execution_count": 17,
   "id": "e926bcda",
   "metadata": {},
   "outputs": [],
   "source": [
    "# Generating Lookalike Recommendations\n",
    "# For the first 20 customers (C0001 - C0020), finding the top-3 most similar customers\n",
    "\n",
    "lookalike_results = {}\n",
    "for customer in similarity_df.index[:20]:  # first 20 customers correspond to C0001 - C0020\n",
    "    # Sort similarity scores in descending order and exclude the customer themselves\n",
    "    similar_customers = similarity_df.loc[customer].sort_values(ascending=False).iloc[1:4]\n",
    "    # Store top-3 similar customers and their scores in a dictionary\n",
    "    lookalike_results[customer] = [(index, round(score, 4)) for index, score in zip(similar_customers.index, similar_customers.values)]"
   ]
  },
  {
   "cell_type": "markdown",
   "id": "cd3abe69",
   "metadata": {},
   "source": [
    "### Result Saving"
   ]
  },
  {
   "cell_type": "code",
   "execution_count": 18,
   "id": "fdfb711d",
   "metadata": {},
   "outputs": [
    {
     "name": "stdout",
     "output_type": "stream",
     "text": [
      "Lookalike Model --build SUCCESSFUL. Results saved at Sathwik_Alladi_Lookalike.csv.\n"
     ]
    }
   ],
   "source": [
    "# Saved Lookalike Results to CSV file.\n",
    "# Converted the results dictionary into a format suitable for saving in to a CSV file.\n",
    "\n",
    "lookalike_csv_data = [\n",
    "    {\"cust_id\": customer, \"recommendations\": lookalike_results[customer]} for customer in lookalike_results\n",
    "]\n",
    "lookalike_df = pd.DataFrame(lookalike_csv_data)\n",
    "\n",
    "lookalike_df.to_csv(\"Sathwik_Alladi_Lookalike.csv\", index=False)\n",
    "\n",
    "print(\"Lookalike Model --build SUCCESSFUL. Results saved at Sathwik_Alladi_Lookalike.csv.\")"
   ]
  },
  {
   "cell_type": "markdown",
   "id": "148704e3",
   "metadata": {},
   "source": [
    "The model successfully generates lookalike recommendations using cosine similarity, but the perfect similarity scores made me think that there would be room for refinement. Therefore, By enhancing feature engineering and addressing data quality, the model successfully generates recommendations but suffers from overfitting due to limited feature diversity."
   ]
  },
  {
   "cell_type": "markdown",
   "id": "fcd3dc93",
   "metadata": {},
   "source": [
    "If Given sufficient feature diversity, i believe through refining feature engineering and addressing data quality, the recommendations can become more actionable and business-relevant."
   ]
  },
  {
   "cell_type": "markdown",
   "id": "1ec0b9fa",
   "metadata": {},
   "source": [
    "this is one of my insights gained through my experience, thought of sharing it. Thank you."
   ]
  },
  {
   "cell_type": "markdown",
   "id": "48ded479",
   "metadata": {},
   "source": []
  }
 ],
 "metadata": {
  "kernelspec": {
   "display_name": "base",
   "language": "python",
   "name": "python3"
  },
  "language_info": {
   "codemirror_mode": {
    "name": "ipython",
    "version": 3
   },
   "file_extension": ".py",
   "mimetype": "text/x-python",
   "name": "python",
   "nbconvert_exporter": "python",
   "pygments_lexer": "ipython3",
   "version": "3.11.5"
  }
 },
 "nbformat": 4,
 "nbformat_minor": 5
}
